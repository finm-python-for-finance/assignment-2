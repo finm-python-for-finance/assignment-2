{
 "cells": [
  {
   "cell_type": "markdown",
   "id": "0",
   "metadata": {},
   "source": [
    "# Part 1: Data Acquisition (1 hour)"
   ]
  },
  {
   "cell_type": "code",
   "execution_count": null,
   "id": "1",
   "metadata": {},
   "outputs": [],
   "source": [
    "from PriceLoader import PriceLoader\n",
    "import pandas as pd\n",
    "import matplotlib.pyplot as plt\n",
    "import os\n",
    "first_time = False"
   ]
  },
  {
   "cell_type": "code",
   "execution_count": null,
   "id": "2",
   "metadata": {},
   "outputs": [],
   "source": [
    "pl = PriceLoader(\"data\")\n",
    "spy_tickers = pl.get_spy_tickers()\n",
    "\n",
    "if first_time:\n",
    "    spy_data = pl.load(spy_tickers, \"2005-01-01\", \"2024-12-31\")\n",
    "    df = pl.get_ticker_data(spy_tickers)\n",
    "\n",
    "    display(df)\n",
    "else:\n",
    "    all_data = {}\n",
    "\n",
    "    for ticker in spy_tickers:\n",
    "        # TODO: change back to 2005 when needed\n",
    "        filename = f\"data/{ticker}_2020-01-01_2024-12-31.parquet\"\n",
    "        ticker_data = pd.read_parquet(filename)\n",
    "        all_data[ticker] = ticker_data.iloc[:, 0]  # Take first column\n",
    "\n",
    "    df = pd.DataFrame(all_data)\n",
    "    df.index = pd.to_datetime(df.index)\n",
    "    df = df.sort_index()\n",
    "\n",
    "    # Drop NaNs\n",
    "    df = df.dropna(axis=1)"
   ]
  },
  {
   "cell_type": "markdown",
   "id": "3",
   "metadata": {},
   "source": [
    "# Part 2: Benchmark Strategy (0.5 hour)"
   ]
  },
  {
   "cell_type": "code",
   "execution_count": null,
   "id": "4",
   "metadata": {},
   "outputs": [],
   "source": [
    "from BenchmarkStrategy import BenchmarkStrategy\n",
    "bs = BenchmarkStrategy(df)\n",
    "bs.generate_signals()\n",
    "backtest_positions, backtest_money = bs.backtest()\n",
    "backtest_money\n",
    "backtest_money[\"Total\"].plot(title=\"Benchmark Strategy Total Portfolio Value Over Time\")"
   ]
  },
  {
   "cell_type": "code",
   "execution_count": null,
   "id": "5",
   "metadata": {},
   "outputs": [],
   "source": [
    "# combined\n",
    "from MACDStrategy import MACDStrategy\n",
    "from MovingAverageStrategy import MovingAverageStrategy\n",
    "from VolatilityBreakoutStrategy import VolatilityBreakoutStrategy\n",
    "from RSIStrategy import RSIStrategy\n",
    "\n",
    "for strat in [MACDStrategy, MovingAverageStrategy, VolatilityBreakoutStrategy, RSIStrategy]:\n",
    "    strategy = strat(df)\n",
    "    strategy.generate_signals()\n",
    "    positions, money = strategy.backtest()\n",
    "    money[\"Total\"].plot(title=f\"{strat.__name__} Strategy Total Portfolio Value Over Time\")"
   ]
  },
  {
   "cell_type": "code",
   "execution_count": null,
   "id": "6",
   "metadata": {},
   "outputs": [],
   "source": [
    "#file size was creating commit errors so output is shown as saved image below:\n",
    "import matplotlib.image as mpimg\n",
    "\n",
    "img = mpimg.imread(\"output.png\")\n",
    "plt.figure(figsize=(12,6))\n",
    "plt.imshow(img)\n",
    "plt.axis('off') \n",
    "plt.show()"
   ]
  },
  {
   "cell_type": "code",
   "execution_count": null,
   "id": "7",
   "metadata": {},
   "outputs": [],
   "source": []
  }
 ],
 "metadata": {
  "kernelspec": {
   "display_name": "base",
   "language": "python",
   "name": "python3"
  },
  "language_info": {
   "codemirror_mode": {
    "name": "ipython",
    "version": 3
   },
   "file_extension": ".py",
   "mimetype": "text/x-python",
   "name": "python",
   "nbconvert_exporter": "python",
   "pygments_lexer": "ipython3",
   "version": "3.13.5"
  }
 },
 "nbformat": 4,
 "nbformat_minor": 5
}
