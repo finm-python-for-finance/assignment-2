version https://git-lfs.github.com/spec/v1
oid sha256:08c733e945d4cbbd410979a17647863f0ba3cb969698019f336baf68be6fec0c
size 88079
